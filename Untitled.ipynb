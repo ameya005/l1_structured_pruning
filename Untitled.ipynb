{
 "cells": [
  {
   "cell_type": "code",
   "execution_count": 2,
   "metadata": {},
   "outputs": [],
   "source": [
    "import torch\n",
    "from torch import nn\n",
    "from torchinfo import summary"
   ]
  },
  {
   "cell_type": "code",
   "execution_count": 3,
   "metadata": {},
   "outputs": [],
   "source": [
    "def count_relu(model):\n",
    "    pass"
   ]
  },
  {
   "cell_type": "code",
   "execution_count": 19,
   "metadata": {},
   "outputs": [],
   "source": [
    "model = torch.load('/finetune_model.pth')"
   ]
  },
  {
   "cell_type": "code",
   "execution_count": 67,
   "metadata": {},
   "outputs": [],
   "source": [
    "model_pruned = torch.load('pruned_cifar10_5_2/finetune_model.pth')"
   ]
  },
  {
   "cell_type": "code",
   "execution_count": 70,
   "metadata": {},
   "outputs": [
    {
     "data": {
      "text/plain": [
       "442368"
      ]
     },
     "execution_count": 70,
     "metadata": {},
     "output_type": "execute_result"
    }
   ],
   "source": [
    "(16*32*32*2) + (32*32*32*2) + (32*32*32*2) + (64*32*32*2) + (128*16*16*2) + (64*16*16*2) + (128*8*8*2) +(256*8*8*2)"
   ]
  },
  {
   "cell_type": "code",
   "execution_count": 69,
   "metadata": {},
   "outputs": [
    {
     "data": {
      "text/plain": [
       "==========================================================================================\n",
       "Layer (type:depth-idx)                   Output Shape              Param #\n",
       "==========================================================================================\n",
       "ResNet                                   --                        --\n",
       "├─Conv2d: 1-1                            [1, 16, 32, 32]           432\n",
       "├─BatchNorm2d: 1-2                       [1, 16, 32, 32]           32\n",
       "├─Sequential: 1-3                        [1, 16, 32, 32]           --\n",
       "│    └─BasicBlock: 2-1                   [1, 16, 32, 32]           --\n",
       "│    │    └─Conv2d: 3-1                  [1, 32, 32, 32]           4,608\n",
       "│    │    └─BatchNorm2d: 3-2             [1, 32, 32, 32]           64\n",
       "│    │    └─Conv2d: 3-3                  [1, 16, 32, 32]           4,608\n",
       "│    │    └─BatchNorm2d: 3-4             [1, 16, 32, 32]           32\n",
       "│    │    └─Sequential: 3-5              [1, 16, 32, 32]           --\n",
       "│    └─BasicBlock: 2-2                   [1, 16, 32, 32]           --\n",
       "│    │    └─Conv2d: 3-6                  [1, 32, 32, 32]           4,608\n",
       "│    │    └─BatchNorm2d: 3-7             [1, 32, 32, 32]           64\n",
       "│    │    └─Conv2d: 3-8                  [1, 16, 32, 32]           4,608\n",
       "│    │    └─BatchNorm2d: 3-9             [1, 16, 32, 32]           32\n",
       "│    │    └─Sequential: 3-10             [1, 16, 32, 32]           --\n",
       "├─Sequential: 1-4                        [1, 32, 32, 32]           --\n",
       "│    └─BasicBlock: 2-3                   [1, 32, 32, 32]           --\n",
       "│    │    └─Conv2d: 3-11                 [1, 64, 32, 32]           9,216\n",
       "│    │    └─BatchNorm2d: 3-12            [1, 64, 32, 32]           128\n",
       "│    │    └─Conv2d: 3-13                 [1, 32, 32, 32]           18,432\n",
       "│    │    └─BatchNorm2d: 3-14            [1, 32, 32, 32]           64\n",
       "│    │    └─Sequential: 3-15             [1, 32, 32, 32]           576\n",
       "│    └─BasicBlock: 2-4                   [1, 32, 32, 32]           --\n",
       "│    │    └─Conv2d: 3-16                 [1, 64, 32, 32]           18,432\n",
       "│    │    └─BatchNorm2d: 3-17            [1, 64, 32, 32]           128\n",
       "│    │    └─Conv2d: 3-18                 [1, 32, 32, 32]           18,432\n",
       "│    │    └─BatchNorm2d: 3-19            [1, 32, 32, 32]           64\n",
       "│    │    └─Sequential: 3-20             [1, 32, 32, 32]           --\n",
       "├─Sequential: 1-5                        [1, 64, 16, 16]           --\n",
       "│    └─BasicBlock: 2-5                   [1, 64, 16, 16]           --\n",
       "│    │    └─Conv2d: 3-21                 [1, 128, 16, 16]          36,864\n",
       "│    │    └─BatchNorm2d: 3-22            [1, 128, 16, 16]          256\n",
       "│    │    └─Conv2d: 3-23                 [1, 64, 16, 16]           73,728\n",
       "│    │    └─BatchNorm2d: 3-24            [1, 64, 16, 16]           128\n",
       "│    │    └─Sequential: 3-25             [1, 64, 16, 16]           2,176\n",
       "│    └─BasicBlock: 2-6                   [1, 64, 16, 16]           --\n",
       "│    │    └─Conv2d: 3-26                 [1, 128, 16, 16]          73,728\n",
       "│    │    └─BatchNorm2d: 3-27            [1, 128, 16, 16]          256\n",
       "│    │    └─Conv2d: 3-28                 [1, 64, 16, 16]           73,728\n",
       "│    │    └─BatchNorm2d: 3-29            [1, 64, 16, 16]           128\n",
       "│    │    └─Sequential: 3-30             [1, 64, 16, 16]           --\n",
       "├─Sequential: 1-6                        [1, 128, 8, 8]            --\n",
       "│    └─BasicBlock: 2-7                   [1, 128, 8, 8]            --\n",
       "│    │    └─Conv2d: 3-31                 [1, 256, 8, 8]            147,456\n",
       "│    │    └─BatchNorm2d: 3-32            [1, 256, 8, 8]            512\n",
       "│    │    └─Conv2d: 3-33                 [1, 128, 8, 8]            294,912\n",
       "│    │    └─BatchNorm2d: 3-34            [1, 128, 8, 8]            256\n",
       "│    │    └─Sequential: 3-35             [1, 128, 8, 8]            8,448\n",
       "│    └─BasicBlock: 2-8                   [1, 128, 8, 8]            --\n",
       "│    │    └─Conv2d: 3-36                 [1, 256, 8, 8]            294,912\n",
       "│    │    └─BatchNorm2d: 3-37            [1, 256, 8, 8]            512\n",
       "│    │    └─Conv2d: 3-38                 [1, 128, 8, 8]            294,912\n",
       "│    │    └─BatchNorm2d: 3-39            [1, 128, 8, 8]            256\n",
       "│    │    └─Sequential: 3-40             [1, 128, 8, 8]            --\n",
       "├─Linear: 1-7                            [1, 10]                   5,130\n",
       "==========================================================================================\n",
       "Total params: 1,392,858\n",
       "Trainable params: 1,392,858\n",
       "Non-trainable params: 0\n",
       "Total mult-adds (M): 219.08\n",
       "==========================================================================================\n",
       "Input size (MB): 0.01\n",
       "Forward/backward pass size (MB): 8.26\n",
       "Params size (MB): 5.57\n",
       "Estimated Total Size (MB): 13.84\n",
       "=========================================================================================="
      ]
     },
     "execution_count": 69,
     "metadata": {},
     "output_type": "execute_result"
    }
   ],
   "source": [
    "summary(model_pruned, (1,3, 32, 32), depth=3)"
   ]
  },
  {
   "cell_type": "code",
   "execution_count": 28,
   "metadata": {},
   "outputs": [
    {
     "data": {
      "text/plain": [
       "786176"
      ]
     },
     "execution_count": 28,
     "metadata": {},
     "output_type": "execute_result"
    }
   ],
   "source": [
    "(45*32*32*2) + (32*32*32*2) + (90*32*32) + (72*32*32*2) + (103*32*32) + (205*16*16*2) + (164*16*16*2) + (328*8*8*2) + (410*8*8*2)"
   ]
  },
  {
   "cell_type": "code",
   "execution_count": 21,
   "metadata": {},
   "outputs": [],
   "source": [
    "def prod(inp):\n",
    "    prod=1\n",
    "    for i in inp:\n",
    "        prod*=i\n",
    "    return prod"
   ]
  },
  {
   "cell_type": "code",
   "execution_count": 22,
   "metadata": {},
   "outputs": [
    {
     "ename": "SyntaxError",
     "evalue": "invalid syntax (<ipython-input-22-53fe8016c501>, line 8)",
     "output_type": "error",
     "traceback": [
      "\u001b[0;36m  File \u001b[0;32m\"<ipython-input-22-53fe8016c501>\"\u001b[0;36m, line \u001b[0;32m8\u001b[0m\n\u001b[0;31m    if isinstance(m, )\u001b[0m\n\u001b[0m                      ^\u001b[0m\n\u001b[0;31mSyntaxError\u001b[0m\u001b[0;31m:\u001b[0m invalid syntax\n"
     ]
    }
   ],
   "source": [
    "def count_relu(model, x):\n",
    "    relu_count = 0\n",
    "    b, c, w, h = x.shape\n",
    "    out=x\n",
    "    for m in model.modules():\n",
    "        if isinstance(m, ResNet):\n",
    "            continue\n",
    "        if isinstance(m, )\n",
    "            "
   ]
  },
  {
   "cell_type": "code",
   "execution_count": 24,
   "metadata": {},
   "outputs": [],
   "source": [
    "model_stats=summary(model, (1,3,32,32), depth=3)"
   ]
  },
  {
   "cell_type": "code",
   "execution_count": 40,
   "metadata": {},
   "outputs": [
    {
     "data": {
      "text/plain": [
       "==========================================================================================\n",
       "Layer (type:depth-idx)                   Output Shape              Param #\n",
       "==========================================================================================\n",
       "ResNet                                   --                        --\n",
       "├─Conv2d: 1-1                            [1, 64, 32, 32]           1,728\n",
       "├─BatchNorm2d: 1-2                       [1, 64, 32, 32]           128\n",
       "├─Sequential: 1-3                        [1, 64, 32, 32]           --\n",
       "│    └─BasicBlock: 2-1                   [1, 64, 32, 32]           --\n",
       "│    │    └─Conv2d: 3-1                  [1, 64, 32, 32]           36,864\n",
       "│    │    └─BatchNorm2d: 3-2             [1, 64, 32, 32]           128\n",
       "│    │    └─Conv2d: 3-3                  [1, 64, 32, 32]           36,864\n",
       "│    │    └─BatchNorm2d: 3-4             [1, 64, 32, 32]           128\n",
       "│    │    └─Sequential: 3-5              [1, 64, 32, 32]           --\n",
       "│    └─BasicBlock: 2-2                   [1, 64, 32, 32]           --\n",
       "│    │    └─Conv2d: 3-6                  [1, 64, 32, 32]           36,864\n",
       "│    │    └─BatchNorm2d: 3-7             [1, 64, 32, 32]           128\n",
       "│    │    └─Conv2d: 3-8                  [1, 64, 32, 32]           36,864\n",
       "│    │    └─BatchNorm2d: 3-9             [1, 64, 32, 32]           128\n",
       "│    │    └─Sequential: 3-10             [1, 64, 32, 32]           --\n",
       "├─Sequential: 1-4                        [1, 128, 32, 32]          --\n",
       "│    └─BasicBlock: 2-3                   [1, 128, 32, 32]          --\n",
       "│    │    └─Conv2d: 3-11                 [1, 128, 32, 32]          73,728\n",
       "│    │    └─BatchNorm2d: 3-12            [1, 128, 32, 32]          256\n",
       "│    │    └─Conv2d: 3-13                 [1, 128, 32, 32]          147,456\n",
       "│    │    └─BatchNorm2d: 3-14            [1, 128, 32, 32]          256\n",
       "│    │    └─Sequential: 3-15             [1, 128, 32, 32]          8,448\n",
       "│    └─BasicBlock: 2-4                   [1, 128, 32, 32]          --\n",
       "│    │    └─Conv2d: 3-16                 [1, 128, 32, 32]          147,456\n",
       "│    │    └─BatchNorm2d: 3-17            [1, 128, 32, 32]          256\n",
       "│    │    └─Conv2d: 3-18                 [1, 128, 32, 32]          147,456\n",
       "│    │    └─BatchNorm2d: 3-19            [1, 128, 32, 32]          256\n",
       "│    │    └─Sequential: 3-20             [1, 128, 32, 32]          --\n",
       "├─Sequential: 1-5                        [1, 256, 16, 16]          --\n",
       "│    └─BasicBlock: 2-5                   [1, 256, 16, 16]          --\n",
       "│    │    └─Conv2d: 3-21                 [1, 256, 16, 16]          294,912\n",
       "│    │    └─BatchNorm2d: 3-22            [1, 256, 16, 16]          512\n",
       "│    │    └─Conv2d: 3-23                 [1, 256, 16, 16]          589,824\n",
       "│    │    └─BatchNorm2d: 3-24            [1, 256, 16, 16]          512\n",
       "│    │    └─Sequential: 3-25             [1, 256, 16, 16]          33,280\n",
       "│    └─BasicBlock: 2-6                   [1, 256, 16, 16]          --\n",
       "│    │    └─Conv2d: 3-26                 [1, 256, 16, 16]          589,824\n",
       "│    │    └─BatchNorm2d: 3-27            [1, 256, 16, 16]          512\n",
       "│    │    └─Conv2d: 3-28                 [1, 256, 16, 16]          589,824\n",
       "│    │    └─BatchNorm2d: 3-29            [1, 256, 16, 16]          512\n",
       "│    │    └─Sequential: 3-30             [1, 256, 16, 16]          --\n",
       "├─Sequential: 1-6                        [1, 512, 8, 8]            --\n",
       "│    └─BasicBlock: 2-7                   [1, 512, 8, 8]            --\n",
       "│    │    └─Conv2d: 3-31                 [1, 512, 8, 8]            1,179,648\n",
       "│    │    └─BatchNorm2d: 3-32            [1, 512, 8, 8]            1,024\n",
       "│    │    └─Conv2d: 3-33                 [1, 512, 8, 8]            2,359,296\n",
       "│    │    └─BatchNorm2d: 3-34            [1, 512, 8, 8]            1,024\n",
       "│    │    └─Sequential: 3-35             [1, 512, 8, 8]            132,096\n",
       "│    └─BasicBlock: 2-8                   [1, 512, 8, 8]            --\n",
       "│    │    └─Conv2d: 3-36                 [1, 512, 8, 8]            2,359,296\n",
       "│    │    └─BatchNorm2d: 3-37            [1, 512, 8, 8]            1,024\n",
       "│    │    └─Conv2d: 3-38                 [1, 512, 8, 8]            2,359,296\n",
       "│    │    └─BatchNorm2d: 3-39            [1, 512, 8, 8]            1,024\n",
       "│    │    └─Sequential: 3-40             [1, 512, 8, 8]            --\n",
       "├─Linear: 1-7                            [1, 100]                  204,900\n",
       "==========================================================================================\n",
       "Total params: 11,373,732\n",
       "Trainable params: 11,373,732\n",
       "Non-trainable params: 0\n",
       "Total mult-adds (G): 1.76\n",
       "==========================================================================================\n",
       "Input size (MB): 0.01\n",
       "Forward/backward pass size (MB): 23.59\n",
       "Params size (MB): 45.49\n",
       "Estimated Total Size (MB): 69.10\n",
       "=========================================================================================="
      ]
     },
     "execution_count": 40,
     "metadata": {},
     "output_type": "execute_result"
    }
   ],
   "source": [
    "model_stats"
   ]
  },
  {
   "cell_type": "code",
   "execution_count": 44,
   "metadata": {},
   "outputs": [
    {
     "data": {
      "text/plain": [
       "1179.648"
      ]
     },
     "execution_count": 44,
     "metadata": {},
     "output_type": "execute_result"
    }
   ],
   "source": [
    "((64*32*32*4) + (128*32*32*4) + (256*16*16*4) + (512*8*8*4))/1000.0"
   ]
  },
  {
   "cell_type": "code",
   "execution_count": 34,
   "metadata": {},
   "outputs": [
    {
     "data": {
      "text/plain": [
       "==========================================================================================\n",
       "Layer (type:depth-idx)                   Output Shape              Param #\n",
       "==========================================================================================\n",
       "ResNet                                   --                        --\n",
       "├─Conv2d: 1-1                            [1, 53, 32, 32]           1,431\n",
       "├─BatchNorm2d: 1-2                       [1, 53, 32, 32]           106\n",
       "├─Sequential: 1-3                        [1, 53, 32, 32]           --\n",
       "│    └─BasicBlock: 2-1                   [1, 53, 32, 32]           --\n",
       "│    │    └─Conv2d: 3-1                  [1, 58, 32, 32]           27,666\n",
       "│    │    └─BatchNorm2d: 3-2             [1, 58, 32, 32]           116\n",
       "│    │    └─Conv2d: 3-3                  [1, 53, 32, 32]           27,666\n",
       "│    │    └─BatchNorm2d: 3-4             [1, 53, 32, 32]           106\n",
       "│    │    └─Sequential: 3-5              [1, 53, 32, 32]           --\n",
       "│    └─BasicBlock: 2-2                   [1, 53, 32, 32]           --\n",
       "│    │    └─Conv2d: 3-6                  [1, 58, 32, 32]           27,666\n",
       "│    │    └─BatchNorm2d: 3-7             [1, 58, 32, 32]           116\n",
       "│    │    └─Conv2d: 3-8                  [1, 53, 32, 32]           27,666\n",
       "│    │    └─BatchNorm2d: 3-9             [1, 53, 32, 32]           106\n",
       "│    │    └─Sequential: 3-10             [1, 53, 32, 32]           --\n",
       "├─Sequential: 1-4                        [1, 83, 32, 32]           --\n",
       "│    └─BasicBlock: 2-3                   [1, 83, 32, 32]           --\n",
       "│    │    └─Conv2d: 3-11                 [1, 103, 32, 32]          49,131\n",
       "│    │    └─BatchNorm2d: 3-12            [1, 103, 32, 32]          206\n",
       "│    │    └─Conv2d: 3-13                 [1, 83, 32, 32]           76,941\n",
       "│    │    └─BatchNorm2d: 3-14            [1, 83, 32, 32]           166\n",
       "│    │    └─Sequential: 3-15             [1, 83, 32, 32]           4,565\n",
       "│    └─BasicBlock: 2-4                   [1, 83, 32, 32]           --\n",
       "│    │    └─Conv2d: 3-16                 [1, 103, 32, 32]          76,941\n",
       "│    │    └─BatchNorm2d: 3-17            [1, 103, 32, 32]          206\n",
       "│    │    └─Conv2d: 3-18                 [1, 83, 32, 32]           76,941\n",
       "│    │    └─BatchNorm2d: 3-19            [1, 83, 32, 32]           166\n",
       "│    │    └─Sequential: 3-20             [1, 83, 32, 32]           --\n",
       "├─Sequential: 1-5                        [1, 164, 16, 16]          --\n",
       "│    └─BasicBlock: 2-5                   [1, 164, 16, 16]          --\n",
       "│    │    └─Conv2d: 3-21                 [1, 205, 16, 16]          153,135\n",
       "│    │    └─BatchNorm2d: 3-22            [1, 205, 16, 16]          410\n",
       "│    │    └─Conv2d: 3-23                 [1, 164, 16, 16]          302,580\n",
       "│    │    └─BatchNorm2d: 3-24            [1, 164, 16, 16]          328\n",
       "│    │    └─Sequential: 3-25             [1, 164, 16, 16]          13,940\n",
       "│    └─BasicBlock: 2-6                   [1, 164, 16, 16]          --\n",
       "│    │    └─Conv2d: 3-26                 [1, 205, 16, 16]          302,580\n",
       "│    │    └─BatchNorm2d: 3-27            [1, 205, 16, 16]          410\n",
       "│    │    └─Conv2d: 3-28                 [1, 164, 16, 16]          302,580\n",
       "│    │    └─BatchNorm2d: 3-29            [1, 164, 16, 16]          328\n",
       "│    │    └─Sequential: 3-30             [1, 164, 16, 16]          --\n",
       "├─Sequential: 1-6                        [1, 252, 8, 8]            --\n",
       "│    └─BasicBlock: 2-7                   [1, 252, 8, 8]            --\n",
       "│    │    └─Conv2d: 3-31                 [1, 359, 8, 8]            529,884\n",
       "│    │    └─BatchNorm2d: 3-32            [1, 359, 8, 8]            718\n",
       "│    │    └─Conv2d: 3-33                 [1, 252, 8, 8]            814,212\n",
       "│    │    └─BatchNorm2d: 3-34            [1, 252, 8, 8]            504\n",
       "│    │    └─Sequential: 3-35             [1, 252, 8, 8]            41,832\n",
       "│    └─BasicBlock: 2-8                   [1, 252, 8, 8]            --\n",
       "│    │    └─Conv2d: 3-36                 [1, 359, 8, 8]            814,212\n",
       "│    │    └─BatchNorm2d: 3-37            [1, 359, 8, 8]            718\n",
       "│    │    └─Conv2d: 3-38                 [1, 252, 8, 8]            814,212\n",
       "│    │    └─BatchNorm2d: 3-39            [1, 252, 8, 8]            504\n",
       "│    │    └─Sequential: 3-40             [1, 252, 8, 8]            --\n",
       "├─Linear: 1-7                            [1, 100]                  100,900\n",
       "==========================================================================================\n",
       "Total params: 4,591,895\n",
       "Trainable params: 4,591,895\n",
       "Non-trainable params: 0\n",
       "Total mult-adds (M): 874.02\n",
       "==========================================================================================\n",
       "Input size (MB): 0.01\n",
       "Forward/backward pass size (MB): 17.17\n",
       "Params size (MB): 18.37\n",
       "Estimated Total Size (MB): 35.55\n",
       "=========================================================================================="
      ]
     },
     "execution_count": 34,
     "metadata": {},
     "output_type": "execute_result"
    }
   ],
   "source": [
    "summary(model_pruned, (1, 3, 32, 32), depth=3)"
   ]
  },
  {
   "cell_type": "code",
   "execution_count": 45,
   "metadata": {},
   "outputs": [
    {
     "data": {
      "text/plain": [
       "875392"
      ]
     },
     "execution_count": 45,
     "metadata": {},
     "output_type": "execute_result"
    }
   ],
   "source": [
    "(58*32*32*2) + (53*32*32*2) + (103*32*32*2) + (83*32*32*2) + (205*16*16*2) + (164*16*16*2) + (359*8*8*2) + (252*8*8*2)"
   ]
  },
  {
   "cell_type": "code",
   "execution_count": null,
   "metadata": {},
   "outputs": [],
   "source": []
  }
 ],
 "metadata": {
  "kernelspec": {
   "display_name": "Python 3",
   "language": "python",
   "name": "python3"
  },
  "language_info": {
   "codemirror_mode": {
    "name": "ipython",
    "version": 3
   },
   "file_extension": ".py",
   "mimetype": "text/x-python",
   "name": "python",
   "nbconvert_exporter": "python",
   "pygments_lexer": "ipython3",
   "version": "3.6.9"
  }
 },
 "nbformat": 4,
 "nbformat_minor": 4
}
